{
 "cells": [
  {
   "cell_type": "code",
   "execution_count": 82,
   "metadata": {},
   "outputs": [],
   "source": [
    "import os\n",
    "import pickle\n",
    "import sys\n",
    "import h5py\n",
    "import torch\n",
    "import torch.nn as nn\n",
    "import torch.utils.data\n",
    "import torch.nn.functional as F\n",
    "import numpy as np\n",
    "from tqdm import tnrange, tqdm_notebook\n",
    "\n",
    "# os.chdir('codes')\n",
    "import models\n",
    "import sklearn.metrics as metrics\n",
    "\n",
    "import matplotlib.pyplot as plt\n",
    "%matplotlib inline"
   ]
  },
  {
   "cell_type": "code",
   "execution_count": null,
   "metadata": {},
   "outputs": [],
   "source": []
  },
  {
   "cell_type": "markdown",
   "metadata": {},
   "source": [
    "prepare data"
   ]
  },
  {
   "cell_type": "code",
   "execution_count": 2,
   "metadata": {},
   "outputs": [],
   "source": [
    "# CHOOSE THE AUGMENTS IF NECESSARY\n",
    "device = 'cuda:4' # device where you put your data and models\n",
    "data_path = './' # the path of the 'npc_v4_data.h5' file\n",
    "batch_size = 50 # the batch size of the data loader\n",
    "insp_layer = 'conv3' # the middle layer extracted from alexnet, available in {'conv1', 'conv2', 'conv3', 'conv4', 'conv5'}\n",
    "\n",
    "\"\"\"\n",
    "The file npc_v4_data.h5 is structured in the following way:\n",
    "images: a tensor of shape [num_images, width, height, num_colors]\n",
    "neural data: a tensor of shape [num_repetitions, num_images, num_neurons]\n",
    "target indices: a list containing the indices of target neurons in data tensor\n",
    "For some animals the data is collected within two sessions that are indicated by session_x\n",
    "\"\"\"\n",
    "\n",
    "with h5py.File(os.path.join(data_path, 'npc_v4_data.h5')) as hf:\n",
    "    images_n = np.array(hf['images']['naturalistic'])\n",
    "    neural_n = np.array(hf['neural']['naturalistic']['monkey_m']['stretch']['session_2'])\n",
    "\n",
    "n_images = neural_n.shape[1]\n",
    "n_neurons = neural_n.shape[2]\n",
    "size_imags = images_n.shape[0]\n",
    "\n",
    "reps = neural_n.shape[0]\n",
    "rand_ind = np.arange(reps)\n",
    "np.random.shuffle(rand_ind)\n",
    "\n",
    "data_y_train = neural_n[:,:576].mean(0).astype(np.float32)\n",
    "data_y_val_origin = neural_n[:, 576:].astype(np.float32)\n",
    "data_y_val = data_y_val_origin.mean(0)\n",
    "\n",
    "\n",
    "data_x = images_n[:, np.newaxis].astype(np.float32)\n",
    "data_x = data_x / 255\n",
    "data_x = np.tile(data_x, [1, 3, 1, 1])\n",
    "\n",
    "data_x_train = data_x[:576]\n",
    "data_x_val = data_x[576:]\n",
    "\n",
    "\n",
    "class Dataset(torch.utils.data.Dataset):\n",
    "    def __init__(self, data_x, data_y):\n",
    "        self.data_x = data_x\n",
    "        self.data_y = data_y\n",
    "    def __getitem__(self, index):\n",
    "        return self.data_x[index], self.data_y[index]\n",
    "    def __len__(self):\n",
    "        return self.data_x.shape[0]\n",
    "\n",
    "imagenet_mean = torch.tensor([0.485, 0.456, 0.406], dtype=torch.float32).view(1, 3, 1, 1).to(device)\n",
    "imagenet_std =torch.tensor([0.229, 0.224, 0.225], dtype=torch.float32).view(1, 3, 1, 1).to(device)\n",
    "transform = lambda x : (x - imagenet_mean) / imagenet_std\n",
    "\n",
    "dataset_train = Dataset(data_x_train, data_y_train)\n",
    "dataset_val = Dataset(data_x_val, data_y_val)\n",
    "\n",
    "loader_train = torch.utils.data.DataLoader(dataset_train, batch_size=batch_size)\n",
    "loader_val = torch.utils.data.DataLoader(dataset_val, batch_size=batch_size)"
   ]
  },
  {
   "cell_type": "markdown",
   "metadata": {},
   "source": [
    "# Problem (a)"
   ]
  },
  {
   "cell_type": "code",
   "execution_count": 3,
   "metadata": {},
   "outputs": [
    {
     "data": {
      "text/plain": [
       "()"
      ]
     },
     "execution_count": 3,
     "metadata": {},
     "output_type": "execute_result"
    }
   ],
   "source": [
    "()"
   ]
  },
  {
   "cell_type": "code",
   "execution_count": 95,
   "metadata": {},
   "outputs": [],
   "source": [
    "# CHOOSE THE AUGMENTS IF NECESSARY\n",
    "lamd_s, lamd_d = [5e-3, 2e-3] # the coefficients of the losses. Try other coefficients!\n",
    "epoches = 50 # total epochs for training the encoder\n",
    "lr = 1e-3 # the learing rate for training the encoder\n",
    "\n",
    "alexnet = models.alexnet(pretrained=True)\n",
    "alexnet.to(device)\n",
    "alexnet.eval()\n",
    "for param in alexnet.parameters():\n",
    "    param.requires_grad_(False)\n",
    "\n",
    "x = torch.from_numpy(data_x[0:1]).to(device)\n",
    "fmap = alexnet(x, layer=insp_layer)\n",
    "\n",
    "neurons = data_y_train.shape[1]\n",
    "sizes = fmap.shape[2:]\n",
    "channels = fmap.shape[1]"
   ]
  },
  {
   "cell_type": "code",
   "execution_count": 62,
   "metadata": {},
   "outputs": [],
   "source": [
    "class conv_encoder(nn.Module):\n",
    "\n",
    "    def __init__(self, neurons, sizes, channels):\n",
    "        super(conv_encoder, self).__init__()\n",
    "        # PUT YOUR CODES HERE\n",
    "        self.W_s = nn.Parameter(torch.randn(size=(neurons,) + sizes))\n",
    "        self.W_d = nn.Parameter(torch.randn(size = (neurons,channels,1,1)))\n",
    "        self.W_b = nn.Parameter(torch.randn(size = (1,neurons)))\n",
    "\n",
    "\n",
    "    def forward(self, x):\n",
    "        # PUT YOUR CODES HERE\n",
    "        out = torch.einsum('bchw , nhw -> bnchw',x,self.W_s) # dimension : N,n,C,h,w\n",
    "        out = torch.stack(\n",
    "            [F.conv2d(out[:,n,:,:,:],torch.unsqueeze(self.W_d[n],0)) for n in range(neurons)],dim=1) \n",
    "            #dimension:N,n,1,h,w\n",
    "        out = torch.sum(out,dim=(2,3,4))\n",
    "        out = out + self.W_b\n",
    "        return out\n",
    "\n",
    "def L_e(y,pred):\n",
    "    return torch.mean(torch.sqrt(torch.sum((y-pred)**2,dim=1)))\n",
    "\n",
    "def L_2(W_s,W_d,lamd_s=lamd_s,lamd_d=lamd_d):\n",
    "    return lamd_s * torch.sum(W_s**2) + lamd_d * torch.sum(W_d**2)\n",
    "\n",
    "K = torch.tensor([\n",
    "    [0,-1,0],\n",
    "    [-1,4,-1],\n",
    "    [0,-1,0]],dtype=torch.float).to(device)\n",
    "def L_laplace(W_s,lamd_s=lamd_s):\n",
    "    return lamd_s * torch.sum(F.conv2d(torch.unsqueeze(W_s,1),K.unsqueeze(0).unsqueeze(0))**2)\n",
    "\n",
    "\n",
    "# encoder = conv_encoder(neurons, sizes, channels).to(device)"
   ]
  },
  {
   "cell_type": "code",
   "execution_count": 96,
   "metadata": {},
   "outputs": [
    {
     "data": {
      "text/plain": [
       "'\\n    You need to define the conv_encoder() class and train the encoder.\\n    The code of alexnet has been slightly modified from the torchvision, for convenience\\n    of extracting the middle layers.\\n    \\n    Example:\\n        >>> x = x.to(device) # x is a batch of images\\n        >>> x = transform(x)\\n        >>> fmap = alexnet(x, layer=insp_layer)\\n        >>> out= encoder(fmap)\\n        >>> ...\\n'"
      ]
     },
     "execution_count": 96,
     "metadata": {},
     "output_type": "execute_result"
    }
   ],
   "source": [
    "def train_model(encoder, optimizer):\n",
    "    losses = []\n",
    "    encoder.train()\n",
    "    for i,(x,y) in enumerate(loader_train):\n",
    "        optimizer.zero_grad()\n",
    "        x = x.to(device)\n",
    "        y = y.to(device)\n",
    "        x = transform(x)\n",
    "        fmap = alexnet(x,layer = insp_layer)\n",
    "        out = encoder(fmap)\n",
    "        l_e = L_e(y,out)\n",
    "        l_2 = L_2(encoder.W_s,encoder.W_d)\n",
    "        l_l = L_laplace(encoder.W_s)\n",
    "#         print(f'L_e = {l_e} , L_2 = {l_2} , L_l = {l_l}')\n",
    "        loss = L_e(y,out) + L_2(encoder.W_s,encoder.W_d) + L_laplace(encoder.W_s)\n",
    "        loss.backward()\n",
    "        optimizer.step()\n",
    "        losses.append(loss.item())\n",
    "#         print(f'iteration {i}, train loss: {losses[-1]}')\n",
    "    \n",
    "    return losses\n",
    "\n",
    "def validate_model(encoder):\n",
    "    encoder.eval()\n",
    "    y_pred = []\n",
    "    y_true = []\n",
    "    losses = []\n",
    "    for i,(x,y) in enumerate(loader_val):\n",
    "        x = x.to(device)\n",
    "        y = y.to(device)\n",
    "        x = transform(x)\n",
    "        fmap = alexnet(x,layer = insp_layer)\n",
    "        out = encoder(fmap)\n",
    "        y_pred.append(out)\n",
    "        y_true.append(y)\n",
    "        l_e = L_e(y,out)\n",
    "        l_2 = L_2(encoder.W_s,encoder.W_d)\n",
    "        l_l = L_laplace(encoder.W_s)\n",
    "        print(f'L_e = {l_e} , L_2 = {l_2} , L_l = {l_l}')\n",
    "        loss = L_e(y,out) + L_2(encoder.W_s,encoder.W_d) + L_laplace(encoder.W_s)\n",
    "        losses.append(loss.item())\n",
    "    y_pred = torch.cat(y_pred)\n",
    "    y_true = torch.cat(y_true)\n",
    "    explained_variance = metrics.explained_variance_score(y_true = y_true.detach().cpu().numpy(),y_pred = y_pred.detach().cpu().numpy())\n",
    "    return explained_variance,sum(losses)/len(losses)\n",
    "\n",
    "\"\"\"\n",
    "    You need to define the conv_encoder() class and train the encoder.\n",
    "    The code of alexnet has been slightly modified from the torchvision, for convenience\n",
    "    of extracting the middle layers.\n",
    "    \n",
    "    Example:\n",
    "        >>> x = x.to(device) # x is a batch of images\n",
    "        >>> x = transform(x)\n",
    "        >>> fmap = alexnet(x, layer=insp_layer)\n",
    "        >>> out= encoder(fmap)\n",
    "        >>> ...\n",
    "\"\"\""
   ]
  },
  {
   "cell_type": "code",
   "execution_count": 63,
   "metadata": {},
   "outputs": [],
   "source": [
    "# losses_train = []\n",
    "# losses_val = []\n",
    "# EVs = []"
   ]
  },
  {
   "cell_type": "code",
   "execution_count": 98,
   "metadata": {},
   "outputs": [],
   "source": [
    "\n",
    "lr = 1e-3\n",
    "optimizer = torch.optim.Adam(encoder.parameters(), lr=lr)"
   ]
  },
  {
   "cell_type": "code",
   "execution_count": 99,
   "metadata": {},
   "outputs": [
    {
     "data": {
      "application/vnd.jupyter.widget-view+json": {
       "model_id": "a7f147247fae440ebfcaa11b03d0fa46",
       "version_major": 2,
       "version_minor": 0
      },
      "text/plain": [
       "HBox(children=(IntProgress(value=0, max=50), HTML(value='')))"
      ]
     },
     "metadata": {},
     "output_type": "display_data"
    },
    {
     "name": "stdout",
     "output_type": "stream",
     "text": [
      "L_e = 7.129055023193359 , L_2 = 3.134000301361084 , L_l = 0.1385519802570343\n",
      "L_e = 7.095029354095459 , L_2 = 3.134000301361084 , L_l = 0.1385519802570343\n",
      "epoch 0, EV = -0.8414350266640003, val  loss = 10.384594440460205 , train loss 6.298789119720459\n",
      "L_e = 6.990179061889648 , L_2 = 3.1219003200531006 , L_l = 0.137302964925766\n",
      "L_e = 7.0775885581970215 , L_2 = 3.1219003200531006 , L_l = 0.137302964925766\n",
      "epoch 1, EV = -0.8092481757585819, val  loss = 10.293087482452393 , train loss 6.044405078887939\n",
      "L_e = 6.951453685760498 , L_2 = 3.1099095344543457 , L_l = 0.1361139565706253\n",
      "L_e = 6.957333564758301 , L_2 = 3.1099095344543457 , L_l = 0.1361139565706253\n",
      "epoch 2, EV = -0.7868158232707244, val  loss = 10.200417518615723 , train loss 5.88825306892395\n",
      "L_e = 7.002803325653076 , L_2 = 3.097938299179077 , L_l = 0.13583756983280182\n",
      "L_e = 6.902479648590088 , L_2 = 3.097938299179077 , L_l = 0.13583756983280182\n",
      "epoch 3, EV = -0.789000426347439, val  loss = 10.18641710281372 , train loss 5.7628035068511965\n",
      "L_e = 6.952064037322998 , L_2 = 3.086395263671875 , L_l = 0.1360921412706375\n",
      "L_e = 6.859011650085449 , L_2 = 3.086395263671875 , L_l = 0.1360921412706375\n",
      "epoch 4, EV = -0.7688597658505807, val  loss = 10.128025531768799 , train loss 5.720129728317261\n",
      "L_e = 6.96514892578125 , L_2 = 3.0747971534729004 , L_l = 0.13603246212005615\n",
      "L_e = 6.948746681213379 , L_2 = 3.0747971534729004 , L_l = 0.13603246212005615\n",
      "epoch 5, EV = -0.7847039768329034, val  loss = 10.167777061462402 , train loss 5.743707704544067\n",
      "L_e = 6.995567321777344 , L_2 = 3.0632681846618652 , L_l = 0.13613998889923096\n",
      "L_e = 6.994222164154053 , L_2 = 3.0632681846618652 , L_l = 0.13613998889923096\n",
      "epoch 6, EV = -0.798110659305866, val  loss = 10.194303035736084 , train loss 5.701620054244995\n",
      "L_e = 7.024970054626465 , L_2 = 3.0519111156463623 , L_l = 0.13602833449840546\n",
      "L_e = 6.97808313369751 , L_2 = 3.0519111156463623 , L_l = 0.13602833449840546\n",
      "epoch 7, EV = -0.8023031743673178, val  loss = 10.189465999603271 , train loss 5.674501276016235\n",
      "L_e = 6.9835405349731445 , L_2 = 3.040381908416748 , L_l = 0.1362556517124176\n",
      "L_e = 6.933077335357666 , L_2 = 3.040381908416748 , L_l = 0.1362556517124176\n",
      "epoch 8, EV = -0.7902655739050645, val  loss = 10.1349458694458 , train loss 5.673697137832642\n",
      "L_e = 7.05592155456543 , L_2 = 3.029115676879883 , L_l = 0.13646158576011658\n",
      "L_e = 7.001474857330322 , L_2 = 3.029115676879883 , L_l = 0.13646158576011658\n",
      "epoch 9, EV = -0.7976432671913734, val  loss = 10.19427490234375 , train loss 5.622972583770752\n",
      "L_e = 7.013633728027344 , L_2 = 3.017929792404175 , L_l = 0.13666746020317078\n",
      "L_e = 6.995365142822266 , L_2 = 3.017929792404175 , L_l = 0.13666746020317078\n",
      "epoch 10, EV = -0.7922309935092926, val  loss = 10.159096717834473 , train loss 5.674142503738404\n",
      "L_e = 7.101744651794434 , L_2 = 3.0067386627197266 , L_l = 0.13658563792705536\n",
      "L_e = 7.123851776123047 , L_2 = 3.0067386627197266 , L_l = 0.13658563792705536\n",
      "epoch 11, EV = -0.8129774733231618, val  loss = 10.25612211227417 , train loss 5.688159418106079\n",
      "L_e = 7.081618309020996 , L_2 = 2.995410680770874 , L_l = 0.13655324280261993\n",
      "L_e = 6.95640754699707 , L_2 = 2.995410680770874 , L_l = 0.13655324280261993\n",
      "epoch 12, EV = -0.808259748495542, val  loss = 10.150976657867432 , train loss 5.681921434402466\n",
      "L_e = 6.968039512634277 , L_2 = 2.984614610671997 , L_l = 0.1363120675086975\n",
      "L_e = 6.995600700378418 , L_2 = 2.984614610671997 , L_l = 0.1363120675086975\n",
      "epoch 13, EV = -0.7752689512876364, val  loss = 10.102746963500977 , train loss 5.702364253997803\n",
      "L_e = 7.091165542602539 , L_2 = 2.9739389419555664 , L_l = 0.13638237118721008\n",
      "L_e = 6.991147994995117 , L_2 = 2.9739389419555664 , L_l = 0.13638237118721008\n",
      "epoch 14, EV = -0.8210769639565394, val  loss = 10.151477813720703 , train loss 5.653258609771728\n",
      "L_e = 7.018659591674805 , L_2 = 2.9632556438446045 , L_l = 0.13640907406806946\n",
      "L_e = 7.041238784790039 , L_2 = 2.9632556438446045 , L_l = 0.13640907406806946\n",
      "epoch 15, EV = -0.8083133158775476, val  loss = 10.129613876342773 , train loss 5.679107570648194\n",
      "L_e = 6.999147891998291 , L_2 = 2.9526660442352295 , L_l = 0.13639025390148163\n",
      "L_e = 6.9441399574279785 , L_2 = 2.9526660442352295 , L_l = 0.13639025390148163\n",
      "epoch 16, EV = -0.7827277745191867, val  loss = 10.060700416564941 , train loss 5.636314725875854\n",
      "L_e = 7.007183074951172 , L_2 = 2.9421322345733643 , L_l = 0.1364741027355194\n",
      "L_e = 7.027248382568359 , L_2 = 2.9421322345733643 , L_l = 0.1364741027355194\n",
      "epoch 17, EV = -0.7943637531537276, val  loss = 10.095821380615234 , train loss 5.601176357269287\n",
      "L_e = 7.038731575012207 , L_2 = 2.9318885803222656 , L_l = 0.13645657896995544\n",
      "L_e = 6.980721950531006 , L_2 = 2.9318885803222656 , L_l = 0.13645657896995544\n",
      "epoch 18, EV = -0.7926481446394553, val  loss = 10.07807207107544 , train loss 5.578006982803345\n",
      "L_e = 7.058659076690674 , L_2 = 2.921725273132324 , L_l = 0.13648253679275513\n",
      "L_e = 7.032861232757568 , L_2 = 2.921725273132324 , L_l = 0.13648253679275513\n",
      "epoch 19, EV = -0.8026323719666555, val  loss = 10.103967666625977 , train loss 5.5231921672821045\n",
      "L_e = 7.090114593505859 , L_2 = 2.9116051197052 , L_l = 0.13684721291065216\n",
      "L_e = 7.017458438873291 , L_2 = 2.9116051197052 , L_l = 0.13684721291065216\n",
      "epoch 20, EV = -0.8239717712769141, val  loss = 10.10223913192749 , train loss 5.528427219390869\n",
      "L_e = 7.069031715393066 , L_2 = 2.9016458988189697 , L_l = 0.1372002363204956\n",
      "L_e = 7.008663654327393 , L_2 = 2.9016458988189697 , L_l = 0.1372002363204956\n",
      "epoch 21, EV = -0.7981082361478072, val  loss = 10.077693939208984 , train loss 5.545346450805664\n",
      "L_e = 7.072985649108887 , L_2 = 2.8916828632354736 , L_l = 0.1375337541103363\n",
      "L_e = 7.023961067199707 , L_2 = 2.8916828632354736 , L_l = 0.1375337541103363\n",
      "epoch 22, EV = -0.8135829441822492, val  loss = 10.077690124511719 , train loss 5.491199684143067\n",
      "L_e = 7.047048091888428 , L_2 = 2.8818743228912354 , L_l = 0.13760671019554138\n",
      "L_e = 7.0025811195373535 , L_2 = 2.8818743228912354 , L_l = 0.13760671019554138\n",
      "epoch 23, EV = -0.7984310938761785, val  loss = 10.04429578781128 , train loss 5.5102410316467285\n",
      "L_e = 7.023673057556152 , L_2 = 2.871980667114258 , L_l = 0.1379287987947464\n",
      "L_e = 6.989590644836426 , L_2 = 2.871980667114258 , L_l = 0.1379287987947464\n",
      "epoch 24, EV = -0.7983516110823705, val  loss = 10.016541481018066 , train loss 5.468698263168335\n",
      "L_e = 7.043858528137207 , L_2 = 2.86234974861145 , L_l = 0.13819971680641174\n",
      "L_e = 7.017414093017578 , L_2 = 2.86234974861145 , L_l = 0.13819971680641174\n",
      "epoch 25, EV = -0.8049129293515132, val  loss = 10.031185626983643 , train loss 5.436486625671387\n",
      "L_e = 7.021503925323486 , L_2 = 2.8528695106506348 , L_l = 0.13847613334655762\n",
      "L_e = 7.031403541564941 , L_2 = 2.8528695106506348 , L_l = 0.13847613334655762\n",
      "epoch 26, EV = -0.8068093657493591, val  loss = 10.017799854278564 , train loss 5.450601243972779\n",
      "L_e = 7.0327582359313965 , L_2 = 2.8434255123138428 , L_l = 0.13857097923755646\n",
      "L_e = 7.063625335693359 , L_2 = 2.8434255123138428 , L_l = 0.13857097923755646\n",
      "epoch 27, EV = -0.7981939579431827, val  loss = 10.030188083648682 , train loss 5.472870779037476\n",
      "L_e = 7.026813983917236 , L_2 = 2.8340370655059814 , L_l = 0.1387757807970047\n",
      "L_e = 6.896817684173584 , L_2 = 2.8340370655059814 , L_l = 0.1387757807970047\n",
      "epoch 28, EV = -0.7877984654444915, val  loss = 9.934628963470459 , train loss 5.44140100479126\n",
      "L_e = 7.006187438964844 , L_2 = 2.8246703147888184 , L_l = 0.1389683187007904\n",
      "L_e = 7.107707977294922 , L_2 = 2.8246703147888184 , L_l = 0.1389683187007904\n",
      "epoch 29, EV = -0.8096897659393457, val  loss = 10.020586967468262 , train loss 5.363786125183106\n",
      "L_e = 7.050999641418457 , L_2 = 2.8153324127197266 , L_l = 0.13934554159641266\n",
      "L_e = 7.054985523223877 , L_2 = 2.8153324127197266 , L_l = 0.13934554159641266\n",
      "epoch 30, EV = -0.8289824151075803, val  loss = 10.007669925689697 , train loss 5.389351654052734\n",
      "L_e = 7.028434753417969 , L_2 = 2.8060672283172607 , L_l = 0.13957135379314423\n",
      "L_e = 6.970911026000977 , L_2 = 2.8060672283172607 , L_l = 0.13957135379314423\n",
      "epoch 31, EV = -0.7998511481743592, val  loss = 9.945311546325684 , train loss 5.405085134506225\n",
      "L_e = 7.05217170715332 , L_2 = 2.796767473220825 , L_l = 0.13958655297756195\n",
      "L_e = 7.006600856781006 , L_2 = 2.796767473220825 , L_l = 0.13958655297756195\n",
      "epoch 32, EV = -0.8161371212739211, val  loss = 9.965740203857422 , train loss 5.418826961517334\n",
      "L_e = 7.015867233276367 , L_2 = 2.787724494934082 , L_l = 0.13963650166988373\n",
      "L_e = 7.143917083740234 , L_2 = 2.787724494934082 , L_l = 0.13963650166988373\n",
      "epoch 33, EV = -0.8105948040118585, val  loss = 10.00725269317627 , train loss 5.393129205703735\n"
     ]
    },
    {
     "ename": "KeyboardInterrupt",
     "evalue": "",
     "output_type": "error",
     "traceback": [
      "\u001b[0;31m---------------------------------------------------------------------------\u001b[0m",
      "\u001b[0;31mKeyboardInterrupt\u001b[0m                         Traceback (most recent call last)",
      "\u001b[0;32m<ipython-input-99-044dd8157423>\u001b[0m in \u001b[0;36m<module>\u001b[0;34m\u001b[0m\n\u001b[1;32m      1\u001b[0m \u001b[0;34m\u001b[0m\u001b[0m\n\u001b[1;32m      2\u001b[0m \u001b[0;32mfor\u001b[0m \u001b[0mepoch\u001b[0m \u001b[0;32min\u001b[0m \u001b[0mtqdm_notebook\u001b[0m\u001b[0;34m(\u001b[0m\u001b[0mrange\u001b[0m\u001b[0;34m(\u001b[0m\u001b[0mepoches\u001b[0m\u001b[0;34m)\u001b[0m\u001b[0;34m)\u001b[0m\u001b[0;34m:\u001b[0m\u001b[0;34m\u001b[0m\u001b[0;34m\u001b[0m\u001b[0m\n\u001b[0;32m----> 3\u001b[0;31m     \u001b[0mlosses_train\u001b[0m \u001b[0;34m+=\u001b[0m \u001b[0mtrain_model\u001b[0m\u001b[0;34m(\u001b[0m\u001b[0mencoder\u001b[0m\u001b[0;34m,\u001b[0m\u001b[0moptimizer\u001b[0m\u001b[0;34m)\u001b[0m\u001b[0;34m\u001b[0m\u001b[0;34m\u001b[0m\u001b[0m\n\u001b[0m\u001b[1;32m      4\u001b[0m     \u001b[0mev\u001b[0m\u001b[0;34m,\u001b[0m\u001b[0mloss\u001b[0m \u001b[0;34m=\u001b[0m \u001b[0mvalidate_model\u001b[0m\u001b[0;34m(\u001b[0m\u001b[0mencoder\u001b[0m\u001b[0;34m)\u001b[0m\u001b[0;34m\u001b[0m\u001b[0;34m\u001b[0m\u001b[0m\n\u001b[1;32m      5\u001b[0m     \u001b[0mEVs\u001b[0m\u001b[0;34m.\u001b[0m\u001b[0mappend\u001b[0m\u001b[0;34m(\u001b[0m\u001b[0mev\u001b[0m\u001b[0;34m)\u001b[0m\u001b[0;34m\u001b[0m\u001b[0;34m\u001b[0m\u001b[0m\n",
      "\u001b[0;32m<ipython-input-96-1637efe5d335>\u001b[0m in \u001b[0;36mtrain_model\u001b[0;34m(encoder, optimizer)\u001b[0m\n\u001b[1;32m     16\u001b[0m         \u001b[0mloss\u001b[0m\u001b[0;34m.\u001b[0m\u001b[0mbackward\u001b[0m\u001b[0;34m(\u001b[0m\u001b[0;34m)\u001b[0m\u001b[0;34m\u001b[0m\u001b[0;34m\u001b[0m\u001b[0m\n\u001b[1;32m     17\u001b[0m         \u001b[0moptimizer\u001b[0m\u001b[0;34m.\u001b[0m\u001b[0mstep\u001b[0m\u001b[0;34m(\u001b[0m\u001b[0;34m)\u001b[0m\u001b[0;34m\u001b[0m\u001b[0;34m\u001b[0m\u001b[0m\n\u001b[0;32m---> 18\u001b[0;31m         \u001b[0mlosses\u001b[0m\u001b[0;34m.\u001b[0m\u001b[0mappend\u001b[0m\u001b[0;34m(\u001b[0m\u001b[0mloss\u001b[0m\u001b[0;34m.\u001b[0m\u001b[0mitem\u001b[0m\u001b[0;34m(\u001b[0m\u001b[0;34m)\u001b[0m\u001b[0;34m)\u001b[0m\u001b[0;34m\u001b[0m\u001b[0;34m\u001b[0m\u001b[0m\n\u001b[0m\u001b[1;32m     19\u001b[0m \u001b[0;31m#         print(f'iteration {i}, train loss: {losses[-1]}')\u001b[0m\u001b[0;34m\u001b[0m\u001b[0;34m\u001b[0m\u001b[0;34m\u001b[0m\u001b[0m\n\u001b[1;32m     20\u001b[0m \u001b[0;34m\u001b[0m\u001b[0m\n",
      "\u001b[0;31mKeyboardInterrupt\u001b[0m: "
     ]
    }
   ],
   "source": [
    "\n",
    "for epoch in tqdm_notebook(range(epoches)):\n",
    "    losses_train += train_model(encoder,optimizer)\n",
    "    ev,loss = validate_model(encoder)\n",
    "    EVs.append(ev)\n",
    "    losses_val.append(loss)\n",
    "    print(f'epoch {epoch}, EV = {ev}, val  loss = {loss} , train loss {sum(losses_train[-10:])/10}')\n",
    "    \n"
   ]
  },
  {
   "cell_type": "code",
   "execution_count": 90,
   "metadata": {},
   "outputs": [
    {
     "name": "stderr",
     "output_type": "stream",
     "text": [
      "/home/hamza/data/anaconda3/lib/python3.7/site-packages/torch/serialization.py:251: UserWarning: Couldn't retrieve source code for container of type conv_encoder. It won't be checked for correctness upon loading.\n",
      "  \"type \" + obj.__name__ + \". It won't be checked \"\n"
     ]
    }
   ],
   "source": [
    "exp = 9\n",
    "torch.save(encoder, f'../models/exp{exp}.pt')"
   ]
  },
  {
   "cell_type": "code",
   "execution_count": 69,
   "metadata": {},
   "outputs": [],
   "source": [
    "exp = 6\n",
    "\n",
    "encoder = torch.load(f'../models/exp{exp}.pt')"
   ]
  },
  {
   "cell_type": "code",
   "execution_count": 100,
   "metadata": {},
   "outputs": [
    {
     "data": {
      "text/plain": [
       "-0.7422338128089905"
      ]
     },
     "execution_count": 100,
     "metadata": {},
     "output_type": "execute_result"
    }
   ],
   "source": [
    "max(EVs)"
   ]
  },
  {
   "cell_type": "code",
   "execution_count": 103,
   "metadata": {},
   "outputs": [
    {
     "data": {
      "text/plain": [
       "[<matplotlib.lines.Line2D at 0x7ffae8474128>]"
      ]
     },
     "execution_count": 103,
     "metadata": {},
     "output_type": "execute_result"
    },
    {
     "data": {
      "image/png": "[encoded data removed]",
      "text/plain": [
       "<Figure size 432x288 with 1 Axes>"
      ]
     },
     "metadata": {
      "needs_background": "light"
     },
     "output_type": "display_data"
    }
   ],
   "source": [
    "plt.plot(losses_train)"
   ]
  },
  {
   "cell_type": "code",
   "execution_count": 102,
   "metadata": {},
   "outputs": [
    {
     "data": {
      "text/plain": [
       "[<matplotlib.lines.Line2D at 0x7ffae8183828>]"
      ]
     },
     "execution_count": 102,
     "metadata": {},
     "output_type": "execute_result"
    },
    {
     "data": {
      "image/png": "[encoded data removed]",
      "text/plain": [
       "<Figure size 432x288 with 1 Axes>"
      ]
     },
     "metadata": {
      "needs_background": "light"
     },
     "output_type": "display_data"
    }
   ],
   "source": [
    "plt.plot(losses_val)"
   ]
  },
  {
   "cell_type": "code",
   "execution_count": 104,
   "metadata": {},
   "outputs": [
    {
     "data": {
      "text/plain": [
       "[<matplotlib.lines.Line2D at 0x7ffac05087f0>]"
      ]
     },
     "execution_count": 104,
     "metadata": {},
     "output_type": "execute_result"
    },
    {
     "data": {
      "image/png": "[encoded data removed]",
      "text/plain": [
       "<Figure size 432x288 with 1 Axes>"
      ]
     },
     "metadata": {
      "needs_background": "light"
     },
     "output_type": "display_data"
    }
   ],
   "source": [
    "plt.plot(EVs)"
   ]
  },
  {
   "cell_type": "code",
   "execution_count": 45,
   "metadata": {},
   "outputs": [
    {
     "data": {
      "text/plain": [
       "[<matplotlib.lines.Line2D at 0x7ffae809e1d0>]"
      ]
     },
     "execution_count": 45,
     "metadata": {},
     "output_type": "execute_result"
    },
    {
     "data": {
      "image/png": "[encoded data removed]",
      "text/plain": [
       "<Figure size 432x288 with 1 Axes>"
      ]
     },
     "metadata": {
      "needs_background": "light"
     },
     "output_type": "display_data"
    }
   ],
   "source": [
    "plt.plot(EVs)"
   ]
  },
  {
   "cell_type": "code",
   "execution_count": null,
   "metadata": {},
   "outputs": [],
   "source": []
  },
  {
   "cell_type": "code",
   "execution_count": 25,
   "metadata": {},
   "outputs": [],
   "source": [
    "# torch.cuda.empty_cache()"
   ]
  },
  {
   "cell_type": "code",
   "execution_count": null,
   "metadata": {},
   "outputs": [],
   "source": []
  },
  {
   "cell_type": "code",
   "execution_count": null,
   "metadata": {},
   "outputs": [],
   "source": []
  },
  {
   "cell_type": "markdown",
   "metadata": {},
   "source": [
    "show the results"
   ]
  },
  {
   "cell_type": "markdown",
   "metadata": {},
   "source": [
    "# Problem (b)"
   ]
  },
  {
   "cell_type": "code",
   "execution_count": 106,
   "metadata": {
    "scrolled": false
   },
   "outputs": [
    {
     "ename": "AttributeError",
     "evalue": "'Tensor' object has no attribute 'repeat_interleave'",
     "output_type": "error",
     "traceback": [
      "\u001b[0;31m---------------------------------------------------------------------------\u001b[0m",
      "\u001b[0;31mAttributeError\u001b[0m                            Traceback (most recent call last)",
      "\u001b[0;32m<ipython-input-106-24a3b5de024d>\u001b[0m in \u001b[0;36m<module>\u001b[0;34m\u001b[0m\n\u001b[1;32m      6\u001b[0m \u001b[0mjitter\u001b[0m \u001b[0;34m=\u001b[0m \u001b[0;32mTrue\u001b[0m \u001b[0;31m# jitter the input for imitating the movement of the eyes\u001b[0m\u001b[0;34m\u001b[0m\u001b[0;34m\u001b[0m\u001b[0m\n\u001b[1;32m      7\u001b[0m \u001b[0;34m\u001b[0m\u001b[0m\n\u001b[0;32m----> 8\u001b[0;31m \u001b[0mn_id_torch\u001b[0m \u001b[0;34m=\u001b[0m \u001b[0mtorch\u001b[0m\u001b[0;34m.\u001b[0m\u001b[0mtensor\u001b[0m\u001b[0;34m(\u001b[0m\u001b[0mn_id\u001b[0m\u001b[0;34m.\u001b[0m\u001b[0mtolist\u001b[0m\u001b[0;34m(\u001b[0m\u001b[0;34m)\u001b[0m\u001b[0;34m,\u001b[0m \u001b[0mdtype\u001b[0m\u001b[0;34m=\u001b[0m\u001b[0mtorch\u001b[0m\u001b[0;34m.\u001b[0m\u001b[0mint64\u001b[0m\u001b[0;34m)\u001b[0m\u001b[0;34m.\u001b[0m\u001b[0mto\u001b[0m\u001b[0;34m(\u001b[0m\u001b[0mdevice\u001b[0m\u001b[0;34m)\u001b[0m\u001b[0;34m.\u001b[0m\u001b[0mrepeat_interleave\u001b[0m\u001b[0;34m(\u001b[0m\u001b[0mrep_num\u001b[0m\u001b[0;34m)\u001b[0m\u001b[0;34m.\u001b[0m\u001b[0mview\u001b[0m\u001b[0;34m(\u001b[0m\u001b[0;34m-\u001b[0m\u001b[0;36m1\u001b[0m\u001b[0;34m,\u001b[0m \u001b[0;36m1\u001b[0m\u001b[0;34m)\u001b[0m\u001b[0;34m\u001b[0m\u001b[0;34m\u001b[0m\u001b[0m\n\u001b[0m\u001b[1;32m      9\u001b[0m \u001b[0;34m\u001b[0m\u001b[0m\n\u001b[1;32m     10\u001b[0m \u001b[0;32mdef\u001b[0m \u001b[0mloss_TV\u001b[0m\u001b[0;34m(\u001b[0m\u001b[0mx\u001b[0m\u001b[0;34m)\u001b[0m\u001b[0;34m:\u001b[0m\u001b[0;34m\u001b[0m\u001b[0;34m\u001b[0m\u001b[0m\n",
      "\u001b[0;31mAttributeError\u001b[0m: 'Tensor' object has no attribute 'repeat_interleave'"
     ]
    }
   ],
   "source": [
    "# CHOOSE THE AUGMENTS IF NECESSARY\n",
    "n_id = np.random.randint(0, n_neurons, [5])  #inspect several neurons\n",
    "rep_num = 5  # reptitions of each neuron\n",
    "iters = 200 # iterations for synthesis\n",
    "lr = 0.01 # learing rate for synthesis\n",
    "jitter = True # jitter the input for imitating the movement of the eyes\n",
    "\n",
    "n_id_torch = torch.tensor(n_id.tolist(), dtype=torch.int64).to(device).repeat_interleave(rep_num).view(-1, 1)\n",
    "\n",
    "def loss_TV(x):\n",
    "    wd = x[:, :, 1:, :] - x[:, :, :-1, :]\n",
    "    hd = x[:, :, :, 1:] - x[:, :, :, :-1]\n",
    "    loss = (wd ** 2).mean([2]).sum() + (hd ** 2).mean([3]).sum()\n",
    "    return loss\n",
    "\n",
    "def jitter_image(img, max_pixels=19):\n",
    "    sx, sy = np.random.randint(-max_pixels, max_pixels, size=2).tolist()\n",
    "    img_shift = img.roll(sx, 3).roll(sy, 2)\n",
    "    return img_shift\n",
    "\n",
    "encoder.eval()\n",
    "for param in encoder.parameters():\n",
    "#     param.requires_grad_(False)\n",
    "    param = param.detach()\n",
    "    \n",
    "init_images = np.random.uniform(0, 1, [len(n_id_torch), 1, 299, 299]).astype(np.float32)\n",
    "x = torch.from_numpy(init_images)\n",
    "x = x.to(device)\n",
    "\n",
    "\n",
    "    \n",
    "# PUT YOUR CODES HERE\n",
    "\"\"\" \n",
    "    In each iteration, you can use jitter_image() function to jitter the input \n",
    "    image, and use transform predefined to apply standard imagnet preprocess\n",
    "    \n",
    "    Example:\n",
    "        >>> x_jittered = jitter_image(x)\n",
    "        >>> x_jittered = transform(x_jitter.repeat([1, 3, 1, 1]))\n",
    "        ...\n",
    "    \n",
    "    In addition, it is better to normalize when updating the input image x\n",
    "    \n",
    "    Example:\n",
    "        >>> grad = x.grad.detach()\n",
    "        >>> grad /= grad.std([1, 2, 3], keepdim=True) + 1e-8\n",
    "        >>> x = (x - lr * grad).clamp(0, 1).detach()    \n",
    "\"\"\"\n",
    "for i in range(iters):\n",
    "    x_jittered = jitter_image(x)\n",
    "    x_jittered = transform(x_jitter.repeat([1, 3, 1, 1]))\n",
    "    fmap = alexnet(x_jittered,layer = insp_layer)\n",
    "    out = encoder(fmap)\n",
    "    l_res = -torch.sum(out[:,n_id_torch])\n",
    "    l_tv = loss_TV(x)\n",
    "    (l_res + l_tv).backward()\n",
    "    grad = x.grad.detach()\n",
    "    grad /= grad.std([1, 2, 3], keepdim=True) + 1e-8\n",
    "    x = (x - lr * grad).clamp(0, 1).detach()\n",
    "\n",
    "plt.imshow(x[0,0])"
   ]
  },
  {
   "cell_type": "code",
   "execution_count": null,
   "metadata": {},
   "outputs": [],
   "source": [
    "init_images = np.random.uniform(0, 1, [len(n_id_torch), 1, 299, 299]).astype(np.float32)\n",
    "x = torch.from_numpy(init_images)\n",
    "x = x.to(device)\n",
    "\n",
    "\n",
    "    \n",
    "# PUT YOUR CODES HERE\n",
    "\"\"\" \n",
    "    In each iteration, you can use jitter_image() function to jitter the input \n",
    "    image, and use transform predefined to apply standard imagnet preprocess\n",
    "    \n",
    "    Example:\n",
    "        >>> x_jittered = jitter_image(x)\n",
    "        >>> x_jittered = transform(x_jitter.repeat([1, 3, 1, 1]))\n",
    "        ...\n",
    "    \n",
    "    In addition, it is better to normalize when updating the input image x\n",
    "    \n",
    "    Example:\n",
    "        >>> grad = x.grad.detach()\n",
    "        >>> grad /= grad.std([1, 2, 3], keepdim=True) + 1e-8\n",
    "        >>> x = (x - lr * grad).clamp(0, 1).detach()    \n",
    "\"\"\"\n",
    "for i in range(iters):\n",
    "    x_jittered = jitter_image(x)\n",
    "    x_jittered = transform(x_jitter.repeat([1, 3, 1, 1]))\n",
    "    fmap = alexnet(x_jittered,layer = insp_layer)\n",
    "    out = encoder(fmap)\n",
    "    l_res = -torch.sum(F.softmax(out)[:,n_id_torch])\n",
    "    l_tv = loss_TV(x)\n",
    "    (l_res + l_tv).backward()\n",
    "    grad = x.grad.detach()\n",
    "    grad /= grad.std([1, 2, 3], keepdim=True) + 1e-8\n",
    "    x = (x - lr * grad).clamp(0, 1).detach()\n",
    "    break"
   ]
  }
 ],
 "metadata": {
  "kernelspec": {
   "display_name": "Python 3",
   "language": "python",
   "name": "python3"
  },
  "language_info": {
   "codemirror_mode": {
    "name": "ipython",
    "version": 3
   },
   "file_extension": ".py",
   "mimetype": "text/x-python",
   "name": "python",
   "nbconvert_exporter": "python",
   "pygments_lexer": "ipython3",
   "version": "3.7.3"
  },
  "pycharm": {
   "stem_cell": {
    "cell_type": "raw",
    "metadata": {
     "collapsed": false
    },
    "source": []
   }
  },
  "toc": {
   "base_numbering": 1,
   "nav_menu": {
    "height": "12px",
    "width": "252px"
   },
   "number_sections": true,
   "sideBar": true,
   "skip_h1_title": false,
   "title_cell": "Table of Contents",
   "title_sidebar": "Contents",
   "toc_cell": false,
   "toc_position": {},
   "toc_section_display": "block",
   "toc_window_display": false
  }
 },
 "nbformat": 4,
 "nbformat_minor": 2
}
